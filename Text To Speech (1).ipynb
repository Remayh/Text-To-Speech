{
 "cells": [
  {
   "cell_type": "markdown",
   "id": "ad5cbdf0",
   "metadata": {},
   "source": [
    "0- Install Dependen"
   ]
  },
  {
   "cell_type": "code",
   "execution_count": 1,
   "id": "1fcbde76",
   "metadata": {},
   "outputs": [
    {
     "name": "stdout",
     "output_type": "stream",
     "text": [
      "Requirement already satisfied: ibm_watson in c:\\programdata\\anaconda3\\lib\\site-packages (5.2.2)\n",
      "Requirement already satisfied: requests<3.0,>=2.0 in c:\\programdata\\anaconda3\\lib\\site-packages (from ibm_watson) (2.25.1)\n",
      "Requirement already satisfied: websocket-client==1.1.0 in c:\\programdata\\anaconda3\\lib\\site-packages (from ibm_watson) (1.1.0)\n",
      "Requirement already satisfied: ibm-cloud-sdk-core==3.*,>=3.3.6 in c:\\programdata\\anaconda3\\lib\\site-packages (from ibm_watson) (3.10.1)\n",
      "Requirement already satisfied: python-dateutil>=2.5.3 in c:\\programdata\\anaconda3\\lib\\site-packages (from ibm_watson) (2.8.1)\n",
      "Requirement already satisfied: PyJWT<3.0.0,>=2.0.1 in c:\\programdata\\anaconda3\\lib\\site-packages (from ibm-cloud-sdk-core==3.*,>=3.3.6->ibm_watson) (2.1.0)\n",
      "Requirement already satisfied: six>=1.5 in c:\\programdata\\anaconda3\\lib\\site-packages (from python-dateutil>=2.5.3->ibm_watson) (1.15.0)\n",
      "Requirement already satisfied: urllib3<1.27,>=1.21.1 in c:\\programdata\\anaconda3\\lib\\site-packages (from requests<3.0,>=2.0->ibm_watson) (1.26.4)\n",
      "Requirement already satisfied: chardet<5,>=3.0.2 in c:\\programdata\\anaconda3\\lib\\site-packages (from requests<3.0,>=2.0->ibm_watson) (4.0.0)\n",
      "Requirement already satisfied: idna<3,>=2.5 in c:\\programdata\\anaconda3\\lib\\site-packages (from requests<3.0,>=2.0->ibm_watson) (2.10)\n",
      "Requirement already satisfied: certifi>=2017.4.17 in c:\\programdata\\anaconda3\\lib\\site-packages (from requests<3.0,>=2.0->ibm_watson) (2020.12.5)\n"
     ]
    }
   ],
   "source": [
    "! pip install ibm_watson"
   ]
  },
  {
   "cell_type": "markdown",
   "id": "135ae556",
   "metadata": {},
   "source": [
    "1-Authenticate"
   ]
  },
  {
   "cell_type": "code",
   "execution_count": 2,
   "id": "6a214f0f",
   "metadata": {},
   "outputs": [],
   "source": [
    "url= 'https://api.eu-gb.text-to-speech.watson.cloud.ibm.com/instances/ab65a21b-250d-4a59-bad5-b8107f0884b2'\n",
    "apikey='B4eX_EL3WPmUglDQyUxn16FtJtFpxRXi878ZFqDVGDNC'"
   ]
  },
  {
   "cell_type": "code",
   "execution_count": 3,
   "id": "53b65dd8",
   "metadata": {},
   "outputs": [],
   "source": [
    "from ibm_watson import TextToSpeechV1\n",
    "from ibm_cloud_sdk_core.authenticators import IAMAuthenticator"
   ]
  },
  {
   "cell_type": "code",
   "execution_count": 4,
   "id": "a95ce324",
   "metadata": {},
   "outputs": [],
   "source": [
    "authenticator=IAMAuthenticator(apikey)\n",
    "tts=TextToSpeechV1(authenticator=authenticator)\n",
    "tts.set_service_url(url)"
   ]
  },
  {
   "cell_type": "markdown",
   "id": "cda99eb0",
   "metadata": {},
   "source": [
    "2- Convert from a String "
   ]
  },
  {
   "cell_type": "code",
   "execution_count": 6,
   "id": "e26e9bb9",
   "metadata": {},
   "outputs": [],
   "source": [
    "with open ('./speech.mp3','wb') as audio_file:\n",
    "    res=tts.synthesize('  how can I help you ',accept='audio/mp3',voice='en-US_AllisonV3Voice').get_result()\n",
    "    audio_file.write(res.content)\n",
    "    "
   ]
  },
  {
   "cell_type": "markdown",
   "id": "2fbb7133",
   "metadata": {},
   "source": [
    "3- Reading from a File "
   ]
  },
  {
   "cell_type": "code",
   "execution_count": null,
   "id": "73086521",
   "metadata": {},
   "outputs": [],
   "source": [
    "with open ('Text.txt','r')as f:\n",
    "    text=f.readlines()"
   ]
  },
  {
   "cell_type": "code",
   "execution_count": 7,
   "id": "46f36078",
   "metadata": {},
   "outputs": [
    {
     "ename": "NameError",
     "evalue": "name 'text' is not defined",
     "output_type": "error",
     "traceback": [
      "\u001b[1;31m---------------------------------------------------------------------------\u001b[0m",
      "\u001b[1;31mNameError\u001b[0m                                 Traceback (most recent call last)",
      "\u001b[1;32m<ipython-input-7-aa785adca3fc>\u001b[0m in \u001b[0;36m<module>\u001b[1;34m\u001b[0m\n\u001b[1;32m----> 1\u001b[1;33m \u001b[0mtext\u001b[0m\u001b[1;33m\u001b[0m\u001b[1;33m\u001b[0m\u001b[0m\n\u001b[0m",
      "\u001b[1;31mNameError\u001b[0m: name 'text' is not defined"
     ]
    }
   ],
   "source": [
    "text"
   ]
  },
  {
   "cell_type": "code",
   "execution_count": null,
   "id": "b7c37e2e",
   "metadata": {},
   "outputs": [],
   "source": []
  },
  {
   "cell_type": "code",
   "execution_count": null,
   "id": "762d8fad",
   "metadata": {},
   "outputs": [],
   "source": []
  },
  {
   "cell_type": "code",
   "execution_count": null,
   "id": "5744fa45",
   "metadata": {},
   "outputs": [],
   "source": []
  },
  {
   "cell_type": "code",
   "execution_count": 19,
   "id": "ed87fa11",
   "metadata": {},
   "outputs": [],
   "source": [
    "text=[line.replace('\\n','')for line in text ]"
   ]
  },
  {
   "cell_type": "code",
   "execution_count": 20,
   "id": "166809ec",
   "metadata": {},
   "outputs": [],
   "source": [
    "text=''.join(str(line)for line in text )"
   ]
  },
  {
   "cell_type": "code",
   "execution_count": 22,
   "id": "b0f63ba5",
   "metadata": {},
   "outputs": [],
   "source": [
    "with open ('./winston.mp3','wb')as audio_file:\n",
    "    res=tts.synthesize(text,accept='audio/mp3',voise='en-GB_JameV3Voice').get_result()\n",
    "    audio_file.write(res.content)"
   ]
  },
  {
   "cell_type": "code",
   "execution_count": null,
   "id": "23eb55c9",
   "metadata": {},
   "outputs": [],
   "source": []
  },
  {
   "cell_type": "code",
   "execution_count": null,
   "id": "99f337e2",
   "metadata": {},
   "outputs": [],
   "source": []
  },
  {
   "cell_type": "code",
   "execution_count": null,
   "id": "03af8012",
   "metadata": {},
   "outputs": [],
   "source": []
  },
  {
   "cell_type": "code",
   "execution_count": null,
   "id": "fb55ccff",
   "metadata": {},
   "outputs": [],
   "source": []
  },
  {
   "cell_type": "code",
   "execution_count": null,
   "id": "fdab6475",
   "metadata": {},
   "outputs": [],
   "source": []
  },
  {
   "cell_type": "code",
   "execution_count": null,
   "id": "8ee8d582",
   "metadata": {},
   "outputs": [],
   "source": []
  },
  {
   "cell_type": "code",
   "execution_count": null,
   "id": "31b573ff",
   "metadata": {},
   "outputs": [],
   "source": []
  },
  {
   "cell_type": "code",
   "execution_count": null,
   "id": "01616470",
   "metadata": {},
   "outputs": [],
   "source": []
  },
  {
   "cell_type": "markdown",
   "id": "8c8911d3",
   "metadata": {},
   "source": [
    "4-Using New Language Models"
   ]
  },
  {
   "cell_type": "code",
   "execution_count": null,
   "id": "fee682a1",
   "metadata": {},
   "outputs": [],
   "source": []
  }
 ],
 "metadata": {
  "kernelspec": {
   "display_name": "Python 3",
   "language": "python",
   "name": "python3"
  },
  "language_info": {
   "codemirror_mode": {
    "name": "ipython",
    "version": 3
   },
   "file_extension": ".py",
   "mimetype": "text/x-python",
   "name": "python",
   "nbconvert_exporter": "python",
   "pygments_lexer": "ipython3",
   "version": "3.8.8"
  }
 },
 "nbformat": 4,
 "nbformat_minor": 5
}
